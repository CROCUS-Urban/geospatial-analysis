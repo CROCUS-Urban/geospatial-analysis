{
 "cells": [
  {
   "cell_type": "markdown",
   "id": "eedde7bc-ae5e-425d-93b7-eed3d0fa1afc",
   "metadata": {
    "editable": true,
    "slideshow": {
     "slide_type": ""
    },
    "tags": []
   },
   "source": [
    "# Argonne National Laboratory (ATMOS) Current Conditions"
   ]
  },
  {
   "cell_type": "code",
   "execution_count": null,
   "id": "570fe514-43bc-4fe7-a421-0de67bf23428",
   "metadata": {
    "editable": true,
    "slideshow": {
     "slide_type": ""
    },
    "tags": [
     "hide-input"
    ]
   },
   "outputs": [],
   "source": [
    "from IPython.display import IFrame\n",
    "import pandas as pd\n",
    "import sage_data_client\n",
    "import holoviews as hv\n",
    "import hvplot.pandas\n",
    "from metpy.units import units\n",
    "import metpy.calc as mpcalc\n",
    "from bokeh.models import DatetimeTickFormatter\n",
    "import sage_data_client\n",
    "\n",
    "hv.extension(\"bokeh\")\n",
    "\n",
    "def apply_formatter(plot, element):\n",
    "    plot.handles['xaxis'].formatter = DatetimeTickFormatter(hours='%m/%d/%Y \\n %l:%M %p',\n",
    "                                                            minutes='%m/%d/%Y \\n %l:%M %p',\n",
    "                                                            hourmin='%m/%d/%Y \\n %l:%M %p',\n",
    "                                                            days='%m/%d/%Y \\n %l:%M %p',\n",
    "                                                            months='%m/%d/%Y \\n %l:%M %p')\n",
    "\n",
    "def add_local_time(df):\n",
    "    df[\"Local_Time\"] = pd.to_datetime(df.index,unit='s', utc=True)\\\n",
    "                          .map(lambda x: x.tz_convert('America/Chicago'))\n",
    "    return df\n",
    "import warnings\n",
    "warnings.filterwarnings('ignore')"
   ]
  },
  {
   "cell_type": "markdown",
   "id": "309cf54d-e7f4-4a5f-b936-87eb6ec2086e",
   "metadata": {
    "editable": true,
    "slideshow": {
     "slide_type": ""
    },
    "tags": []
   },
   "source": [
    "## Temperature and Dewpoint"
   ]
  },
  {
   "cell_type": "code",
   "execution_count": null,
   "id": "800c7280-4338-448c-9f9a-0d39c1e5688d",
   "metadata": {
    "editable": true,
    "slideshow": {
     "slide_type": ""
    },
    "tags": [
     "hide-input"
    ]
   },
   "outputs": [],
   "source": [
    "wxt_df = sage_data_client.query(\n",
    "    start=\"-12h\", \n",
    "    filter={\n",
    "        \"vsn\": \"W0A4\",\n",
    "        \"name\": \"wxt.env.temp|wxt.env.humidity\"\n",
    "    }\n",
    ").set_index(\"timestamp\")\n",
    "\n",
    "temp_df = wxt_df.loc[wxt_df.name == \"wxt.env.temp\"]\n",
    "hum_df = wxt_df.loc[wxt_df.name == \"wxt.env.humidity\"]\n",
    "\n",
    "min_df = temp_df[[\"value\"]].resample(\"1min\").mean()\n",
    "min_df[\"rh\"] = hum_df[[\"value\"]].resample(\"1min\").mean()\n",
    "\n",
    "min_df[\"tmpf\"] = (min_df.value.values * units.degC).to(\"degF\").m\n",
    "min_df[\"dwpf\"] = mpcalc.dewpoint_from_relative_humidity(min_df.tmpf.values * units.degF,\n",
    "                                       min_df.rh.values * units.percent).to(\"degF\").m\n",
    "\n",
    "min_df = add_local_time(min_df)\n",
    "\n",
    "temp_plot = min_df.hvplot(x='Local_Time',\n",
    "                          y='tmpf',\n",
    "                          color = \"r\",\n",
    "                          label=\"Temperature [degF]\"\n",
    "                         )\n",
    "dewp_plot = min_df.hvplot(x='Local_Time',\n",
    "                          y='dwpf',\n",
    "                          color=\"g\",\n",
    "                          title=\"Current Weather at Argonne National Laboratory (ATMOS)\",\n",
    "                          label=\"Dewpoint [degF]\",\n",
    "                          ylabel=\"Temperature | Dewpoint \\n [degF]\",\n",
    "                          xlabel=\"Local Time (Central/US)\")\n",
    "\n",
    "(temp_plot * dewp_plot).opts(hooks=[apply_formatter], legend_position='right')"
   ]
  },
  {
   "cell_type": "markdown",
   "id": "eeac8ba1-d247-4e51-9215-686eb344630f",
   "metadata": {
    "editable": true,
    "slideshow": {
     "slide_type": ""
    },
    "tags": []
   },
   "source": [
    "## Air Quality"
   ]
  },
  {
   "cell_type": "code",
   "execution_count": null,
   "id": "074dc958-0952-441b-8711-681614f3a2aa",
   "metadata": {
    "editable": true,
    "slideshow": {
     "slide_type": ""
    },
    "tags": [
     "hide-input"
    ]
   },
   "outputs": [],
   "source": [
    "df = sage_data_client.query(\n",
    "    start=\"-12h\", \n",
    "    filter={\n",
    "        \"vsn\": \"W0A4\",\n",
    "        \"name\": \"aqt.particle.pm2.5\"\n",
    "    }\n",
    ").set_index(\"timestamp\")\n",
    "\n",
    "df = add_local_time(df)[[\"value\", \"Local_Time\"]].resample(\"5min\").mean()\n",
    "\n",
    "df.hvplot(label='PM 2.5 Values at Argonne National Laboratory (ATMOS)',\n",
    "          x='Local_Time',\n",
    "          y='value',\n",
    "          ylabel='PM 2.5 \\n [microgram per cubic meter]',\n",
    "          xlabel=\"Local Time (Central/US)\").opts(hooks=[apply_formatter])"
   ]
  },
  {
   "cell_type": "markdown",
   "id": "0f1f85da-41a6-46e6-9f8c-20ba543b433c",
   "metadata": {
    "editable": true,
    "slideshow": {
     "slide_type": ""
    },
    "tags": []
   },
   "source": [
    "## Cloud Base Height and Vertical Profile\n",
    "Measurements from a ceilometer which shows the cloud base height and vertical profile above the site."
   ]
  },
  {
   "cell_type": "code",
   "execution_count": null,
   "id": "aff7cfad-4f58-40d9-8890-6a73abb326b6",
   "metadata": {
    "editable": true,
    "slideshow": {
     "slide_type": ""
    },
    "tags": [
     "hide-input"
    ]
   },
   "outputs": [],
   "source": [
    "import os\n",
    "import requests\n",
    "from IPython.display import Image\n",
    "import sage_data_client\n",
    "\n",
    "def readtofile(uurl, fname, input_args):\n",
    "    \"\"\"\n",
    "    Given a URL, read data to local files\n",
    "\n",
    "    Parameters\n",
    "    ----------\n",
    "    uurl : str\n",
    "        HTML consisting of file to download from Beehive\n",
    "    fname : str\n",
    "        Path for local location to store data into\n",
    "    input_args : dictionary\n",
    "        Input Argument dictionary\n",
    "    \"\"\"\n",
    "    r = requests.get(uurl,\n",
    "                     auth=(input_args[\"user\"], input_args[\"password\"]),\n",
    "                     timeout=25)\n",
    "    if r.status_code == 200:\n",
    "        with open(fname, 'wb') as out:\n",
    "            for bits in r.iter_content():\n",
    "                out.write(bits)\n",
    "    elif r.status_code == 404:\n",
    "        print(\"404 Error: File Not Found\")\n",
    "    else:\n",
    "        print(\"HTML Request Status - \", r.status_code)\n",
    "    return True\n",
    "\n",
    "\n",
    "df = sage_data_client.query(\n",
    "    start=\"-12h\",\n",
    "    filter={\n",
    "        \"plugin\": \"registry.sagecontinuum.org/bhupendraraut/cl61-plot:0.25.*\",\n",
    "        \"vsn\": \"W09A\"\n",
    "    }\n",
    ")\n",
    "\n",
    "\n",
    "# Grab the most recent image\n",
    "uurl = df.value.values[-1]\n",
    "input_args = {\n",
    "    \"user\": os.getenv(\"WAGGLE_USERNAME\"),\n",
    "    \"password\": os.getenv(\"WAGGLE_PASSWORD\")\n",
    "}\n",
    "outpath = os.getcwd() + \"/current-atmos-cl61.png\"\n",
    "readtofile(uurl, outpath, input_args)\n",
    "\n",
    "\n",
    "Image(filename=outpath, width=600)"
   ]
  },
  {
   "cell_type": "markdown",
   "id": "7399dc08-a429-4868-bd78-4cec03334001",
   "metadata": {
    "editable": true,
    "slideshow": {
     "slide_type": ""
    },
    "tags": []
   },
   "source": [
    "## Location\n",
    "Observations from the Argonne National Laboratory, at the Argonne Testbed for Multiscale Observational Science (ATMOS).\n",
    "\n",
    "<div>\n",
    "<img src=\"../../images/atmos-node.jpg\" width=\"500\"/>\n",
    "</div>"
   ]
  },
  {
   "cell_type": "code",
   "execution_count": null,
   "id": "647ab22f-8b66-45db-a8ab-f0a66e334302",
   "metadata": {
    "editable": true,
    "slideshow": {
     "slide_type": ""
    },
    "tags": [
     "hide-input"
    ]
   },
   "outputs": [],
   "source": [
    "IFrame(\"https://www.google.com/maps/embed?pb=!1m17!1m12!1m3!1d1127.9916583864983!2d-87.99606298327078!3d41.70155707281444!2m3!1f0!2f0!3f0!3m2!1i1024!2i768!4f13.1!3m2!1m1!2zNDHCsDQyJzA1LjciTiA4N8KwNTknNDIuNSJX!5e1!3m2!1sen!2sus!4v1745338004627!5m2!1sen!2sus\", width=700, height=350)"
   ]
  }
 ],
 "metadata": {
  "kernelspec": {
   "display_name": "Python 3 (ipykernel)",
   "language": "python",
   "name": "python3"
  },
  "language_info": {
   "codemirror_mode": {
    "name": "ipython",
    "version": 3
   },
   "file_extension": ".py",
   "mimetype": "text/x-python",
   "name": "python",
   "nbconvert_exporter": "python",
   "pygments_lexer": "ipython3",
   "version": "3.12.9"
  }
 },
 "nbformat": 4,
 "nbformat_minor": 5
}
