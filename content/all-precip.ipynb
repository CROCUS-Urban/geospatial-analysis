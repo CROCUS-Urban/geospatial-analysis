{
 "cells": [
  {
   "cell_type": "markdown",
   "id": "949c283e-1256-4a40-9f56-d40392b5224c",
   "metadata": {},
   "source": [
    "# Precipitation at All CROCUS Sites"
   ]
  },
  {
   "cell_type": "code",
   "execution_count": null,
   "id": "cf30bb6b-0542-4ab1-a223-f01529d6a404",
   "metadata": {
    "editable": true,
    "slideshow": {
     "slide_type": ""
    },
    "tags": [
     "hide-input"
    ]
   },
   "outputs": [],
   "source": [
    "from IPython.display import IFrame\n",
    "import pandas as pd\n",
    "import sage_data_client\n",
    "import holoviews as hv\n",
    "import hvplot.pandas\n",
    "from metpy.units import units\n",
    "import metpy.calc as mpcalc\n",
    "from bokeh.models import DatetimeTickFormatter\n",
    "import sage_data_client\n",
    "\n",
    "hv.extension(\"bokeh\")\n",
    "\n",
    "def apply_formatter(plot, element):\n",
    "    plot.handles['xaxis'].formatter = DatetimeTickFormatter(hours='%m/%d/%Y \\n %l:%M %p',\n",
    "                                                            minutes='%m/%d/%Y \\n %l:%M %p',\n",
    "                                                            hourmin='%m/%d/%Y \\n %l:%M %p',\n",
    "                                                            days='%m/%d/%Y \\n %l:%M %p',\n",
    "                                                            months='%m/%d/%Y \\n %l:%M %p')\n",
    "\n",
    "def add_local_time(df):\n",
    "    df[\"Local_Time\"] = pd.to_datetime(df.index,unit='s', utc=True)\\\n",
    "                          .map(lambda x: x.tz_convert('America/Chicago'))\n",
    "    return df\n",
    "\n",
    "def search_convert_to_inch(site):\n",
    "\n",
    "    subset = sage_data_client.query(\n",
    "                start=\"-1d\",\n",
    "                filter={\n",
    "                    \"plugin\": \"registry.sagecontinuum.org/jrobrien/waggle-wxt536:0.24.11.14.*\",\n",
    "                    \"vsn\": \"W096\",\n",
    "                    \"name\": \"wxt.rain.accumulation\"\n",
    "                }\n",
    "            ).set_index(\"timestamp\")\n",
    "\n",
    "    subset[\"value\"] = (subset.value.values * units.mm).to(\"in\")\n",
    "\n",
    "    if len(subset) > 0:\n",
    "        subset[\"value\"] = subset.value - subset.value.values[0]\n",
    "    else:\n",
    "        pass\n",
    "    return subset.value\n",
    "\n",
    "import warnings\n",
    "warnings.filterwarnings('ignore')"
   ]
  },
  {
   "cell_type": "code",
   "execution_count": null,
   "id": "3ef48a0e-6ca4-4a21-8625-d4c49f00fe74",
   "metadata": {
    "editable": true,
    "slideshow": {
     "slide_type": ""
    },
    "tags": [
     "hide-input"
    ]
   },
   "outputs": [],
   "source": [
    "merged = pd.DataFrame({\"ATMOS\": search_convert_to_inch(\"W0A4\"),\n",
    "                       \"HUM\": search_convert_to_inch(\"W0A1\"),\n",
    "                       \"BIG\": search_convert_to_inch(\"W0A0\"),\n",
    "                       \"SHEDD\": search_convert_to_inch(\"W09E\"),\n",
    "                       \"DOWN\": search_convert_to_inch(\"W09D\"),\n",
    "                       \"NU\": search_convert_to_inch(\"W099\"),\n",
    "                       \"UIC\": search_convert_to_inch(\"W096\"),\n",
    "                       \"VLPK\": search_convert_to_inch(\"W095\"),\n",
    "                       \"CSU\": search_convert_to_inch(\"W08E\"),\n",
    "                       \"NEIU\": search_convert_to_inch(\"W08D\"),\n",
    "                       \"CCICS\": search_convert_to_inch(\"W08B\"),}\n",
    ")\n",
    "\n",
    "# Deal with negavtive values\n",
    "for column in merged.columns:\n",
    "    if merged[column].min() < 0:\n",
    "        merged = merged.drop(columns=[column])"
   ]
  },
  {
   "cell_type": "code",
   "execution_count": null,
   "id": "96c4df21-d709-41bb-ad7e-7571baaf2386",
   "metadata": {
    "editable": true,
    "slideshow": {
     "slide_type": ""
    },
    "tags": [
     "hide-input"
    ]
   },
   "outputs": [],
   "source": [
    "merged.resample(\"1min\").mean().hvplot(title= \"12 Hour Precipitation Accumulation at \\n CROCUS Sites [inches]\",\n",
    "                                      ylabel=\"Precipitation Accumulation [inches]\",\n",
    "                                      xlabel=\"Local Time (Central/US)\"\n",
    "                                     ).opts(hooks=[apply_formatter])"
   ]
  }
 ],
 "metadata": {
  "kernelspec": {
   "display_name": "Python 3 (ipykernel)",
   "language": "python",
   "name": "python3"
  },
  "language_info": {
   "codemirror_mode": {
    "name": "ipython",
    "version": 3
   },
   "file_extension": ".py",
   "mimetype": "text/x-python",
   "name": "python",
   "nbconvert_exporter": "python",
   "pygments_lexer": "ipython3",
   "version": "3.12.9"
  }
 },
 "nbformat": 4,
 "nbformat_minor": 5
}
