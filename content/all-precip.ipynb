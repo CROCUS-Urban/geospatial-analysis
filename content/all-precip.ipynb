{
 "cells": [
  {
   "cell_type": "markdown",
   "id": "949c283e-1256-4a40-9f56-d40392b5224c",
   "metadata": {},
   "source": [
    "# Precipitation at All CROCUS Sites"
   ]
  },
  {
   "cell_type": "code",
   "execution_count": null,
   "id": "cf30bb6b-0542-4ab1-a223-f01529d6a404",
   "metadata": {
    "editable": true,
    "slideshow": {
     "slide_type": ""
    },
    "tags": [
     "hide-input"
    ]
   },
   "outputs": [],
   "source": [
    "from IPython.display import IFrame\n",
    "import pandas as pd\n",
    "import dask\n",
    "import sage_data_client\n",
    "import holoviews as hv\n",
    "import hvplot.pandas\n",
    "from metpy.units import units\n",
    "import metpy.calc as mpcalc\n",
    "from bokeh.models import DatetimeTickFormatter\n",
    "import sage_data_client\n",
    "\n",
    "hv.extension(\"bokeh\")\n",
    "\n",
    "def apply_formatter(plot, element):\n",
    "    plot.handles['xaxis'].formatter = DatetimeTickFormatter(hours='%m/%d/%Y \\n %l:%M %p',\n",
    "                                                            minutes='%m/%d/%Y \\n %l:%M %p',\n",
    "                                                            hourmin='%m/%d/%Y \\n %l:%M %p',\n",
    "                                                            days='%m/%d/%Y \\n %l:%M %p',\n",
    "                                                            months='%m/%d/%Y \\n %l:%M %p')\n",
    "\n",
    "def add_local_time(df):\n",
    "    df[\"Local_Time\"] = pd.to_datetime(df.index,unit='s', utc=True)\\\n",
    "                          .map(lambda x: x.tz_convert('America/Chicago'))\n",
    "    return df\n",
    "\n",
    "def search_convert_to_inch(site):\n",
    "\n",
    "    subset = sage_data_client.query(\n",
    "                start=\"-1d\",\n",
    "                filter={\n",
    "                    \"plugin\": \"registry.sagecontinuum.org/jrobrien/waggle-wxt536:0.24.11.14.*\",\n",
    "                    \"vsn\": site,\n",
    "                    \"name\": \"wxt.rain.accumulation\"\n",
    "                }\n",
    "            ).set_index(\"timestamp\")\n",
    "\n",
    "    subset[\"value\"] = (subset.value.values * units.mm).to(\"in\")\n",
    "\n",
    "    if len(subset) > 0:\n",
    "        subset[\"value\"] = subset.value - subset.value.values[0]\n",
    "    else:\n",
    "        pass\n",
    "    return subset.value\n",
    "\n",
    "import warnings\n",
    "warnings.filterwarnings('ignore')"
   ]
  },
  {
   "cell_type": "code",
   "execution_count": null,
   "id": "298e73de-a904-4d3a-a601-c3872306b1e9",
   "metadata": {
    "editable": true,
    "slideshow": {
     "slide_type": ""
    },
    "tags": [
     "hide-input"
    ]
   },
   "outputs": [],
   "source": [
    "# Mapping of keys to sensor codes\n",
    "site_mapping = {\n",
    "    \"ATMOS\": \"W0A4\",\n",
    "    \"HUM\": \"W0A1\",\n",
    "    \"BIG\": \"W0A0\",\n",
    "    \"SHEDD\": \"W09E\",\n",
    "    \"DOWN\": \"W09D\",\n",
    "    \"NU\": \"W099\",\n",
    "    \"UIC\": \"W096\",\n",
    "    \"VLPK\": \"W095\",\n",
    "    \"CSU\": \"W08E\",\n",
    "    \"NEIU\": \"W08D\",\n",
    "    \"CCICS\": \"W08B\",\n",
    "}\n",
    "\n",
    "# Wrap each function call in a delayed task\n",
    "delayed_tasks = {key: dask.delayed(search_convert_to_inch)(code)\n",
    "                 for key, code in site_mapping.items()}\n",
    "\n",
    "# Compute all in parallel\n",
    "results = dask.compute(*delayed_tasks.values())\n",
    "\n",
    "# Create DataFrame\n",
    "merged = pd.DataFrame({key: result for key, result in zip(delayed_tasks.keys(), results)})"
   ]
  },
  {
   "cell_type": "code",
   "execution_count": null,
   "id": "96c4df21-d709-41bb-ad7e-7571baaf2386",
   "metadata": {
    "editable": true,
    "slideshow": {
     "slide_type": ""
    },
    "tags": [
     "hide-input"
    ]
   },
   "outputs": [],
   "source": [
    "# Deal with negavtive values\n",
    "for column in merged.columns:\n",
    "    if merged[column].min() < 0:\n",
    "        merged = merged.drop(columns=[column])\n",
    "\n",
    "# Resample to 1 min frequency\n",
    "resampled = merged.resample(\"1min\").mean()\n",
    "\n",
    "# Add the local time\n",
    "resampled = add_local_time(resampled)\n",
    "\n",
    "if resampled.max().drop([\"Local_Time\"]).max() < 0.1:\n",
    "    plot = resampled.hvplot(title= \"12 Hour Precipitation Accumulation at \\n CROCUS Sites [inches]\",\n",
    "                     ylabel=\"Precipitation Accumulation [inches]\",\n",
    "                     xlabel=\"Local Time (Central/US)\",\n",
    "                     ylim=(0, .01),\n",
    "                     x=\"Local_Time\").opts(hooks=[apply_formatter])\n",
    "else:\n",
    "    plot = resampled.hvplot(title= \"12 Hour Precipitation Accumulation at \\n CROCUS Sites [inches]\",\n",
    "                 ylabel=\"Precipitation Accumulation [inches]\",\n",
    "                 xlabel=\"Local Time (Central/US)\",\n",
    "                 x=\"Local_Time\").opts(hooks=[apply_formatter])"
   ]
  }
 ],
 "metadata": {
  "kernelspec": {
   "display_name": "Python 3 (ipykernel)",
   "language": "python",
   "name": "python3"
  },
  "language_info": {
   "codemirror_mode": {
    "name": "ipython",
    "version": 3
   },
   "file_extension": ".py",
   "mimetype": "text/x-python",
   "name": "python",
   "nbconvert_exporter": "python",
   "pygments_lexer": "ipython3",
   "version": "3.12.9"
  }
 },
 "nbformat": 4,
 "nbformat_minor": 5
}
